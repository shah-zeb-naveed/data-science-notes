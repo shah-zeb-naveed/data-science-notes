{
  "nbformat": 4,
  "nbformat_minor": 0,
  "metadata": {
    "colab": {
      "provenance": [],
      "authorship_tag": "ABX9TyMePZXQYNnh1Cl3kADJ68A2",
      "include_colab_link": true
    },
    "kernelspec": {
      "name": "python3",
      "display_name": "Python 3"
    },
    "language_info": {
      "name": "python"
    }
  },
  "cells": [
    {
      "cell_type": "markdown",
      "metadata": {
        "id": "view-in-github",
        "colab_type": "text"
      },
      "source": [
        "<a href=\"https://colab.research.google.com/github/shah-zeb-naveed/data-science-notes/blob/main/interview_systems.ipynb\" target=\"_parent\"><img src=\"https://colab.research.google.com/assets/colab-badge.svg\" alt=\"Open In Colab\"/></a>"
      ]
    },
    {
      "cell_type": "code",
      "source": [
        "%%writefile lru_cache.py\n",
        "import sys\n",
        "import requests\n",
        "from collections import OrderedDict\n",
        "\n",
        "class ImageCache:\n",
        "    def __init__(self, max_size_bytes):\n",
        "        self.max_size = max_size_bytes\n",
        "        self.cache = OrderedDict()\n",
        "        self.current_size = 0\n",
        "\n",
        "    def get(self, url):\n",
        "        if url in self.cache:\n",
        "            # Move to end to mark as recently used\n",
        "            self.cache.move_to_end(url)\n",
        "            return f\"Cache Hit: {url}\"\n",
        "        else:\n",
        "            try:\n",
        "                response = requests.get(url)\n",
        "                response.raise_for_status()\n",
        "                image_bytes = response.content\n",
        "                image_size = len(image_bytes)\n",
        "\n",
        "                # If image is too big to cache, skip caching\n",
        "                if image_size > self.max_size:\n",
        "                    return f\"Too big. Downloaded (Not Cached): {url}\"\n",
        "\n",
        "                # Evict least recently used items until there's space\n",
        "                while self.current_size + image_size > self.max_size and self.cache:\n",
        "                    _, old_bytes = self.cache.popitem(last=False) # first added\n",
        "                    self.current_size -= len(old_bytes)\n",
        "\n",
        "                self.cache[url] = image_bytes\n",
        "                self.current_size += image_size\n",
        "                return f\"Downloaded and Cached: {url}\"\n",
        "            except requests.exceptions.RequestException as e:\n",
        "                return f\"Error downloading image: {e}\"\n",
        "\n",
        "def main():\n",
        "    if len(sys.argv) < 2:\n",
        "        print(\"Usage: python script.py <input_file>\")\n",
        "        sys.exit(1)\n",
        "\n",
        "    # read fome file\n",
        "    # input_file = sys.argv[1]\n",
        "    # with open(input_file, 'r') as f:\n",
        "    #     lines = f.read().splitlines()\n",
        "\n",
        "    # max_size = int(lines[0])\n",
        "    # num_urls = int(lines[1])\n",
        "    # urls = lines[2:]\n",
        "\n",
        "    # read from command line\n",
        "    max_size = int(sys.argv[1])\n",
        "    num_urls = int(sys.argv[2])\n",
        "    urls = sys.argv[3:]\n",
        "\n",
        "    cache = ImageCache(max_size)\n",
        "\n",
        "    for url in urls:\n",
        "        result = cache.get(url)\n",
        "        print(result)\n",
        "\n",
        "if __name__ == \"__main__\":\n",
        "    main()"
      ],
      "metadata": {
        "colab": {
          "base_uri": "https://localhost:8080/"
        },
        "id": "3aZ72Rp4-10C",
        "outputId": "e08ec68f-4697-4414-b11a-3d634809fada"
      },
      "execution_count": null,
      "outputs": [
        {
          "output_type": "stream",
          "name": "stdout",
          "text": [
            "Overwriting lru_cache.py\n"
          ]
        }
      ]
    },
    {
      "cell_type": "code",
      "source": [
        "!python lru_cache.py 10000 3 https://placehold.co/600x400.png https://placehold.co/600x400.png https://placehold.co/600x400.png"
      ],
      "metadata": {
        "colab": {
          "base_uri": "https://localhost:8080/"
        },
        "id": "fzmeuD_u_zy_",
        "outputId": "4cf182a0-2239-46d6-a4fd-83cd3347db97"
      },
      "execution_count": null,
      "outputs": [
        {
          "output_type": "stream",
          "name": "stdout",
          "text": [
            "Downloaded and Cached: https://placehold.co/600x400.png\n",
            "Cache Hit: https://placehold.co/600x400.png\n",
            "Cache Hit: https://placehold.co/600x400.png\n"
          ]
        }
      ]
    },
    {
      "cell_type": "code",
      "source": [
        "min({2:'A',1:'B'})"
      ],
      "metadata": {
        "colab": {
          "base_uri": "https://localhost:8080/"
        },
        "id": "jBCZEJvAKI7s",
        "outputId": "2b749de5-f8ae-4b51-da1a-aa679e30a3d5"
      },
      "execution_count": null,
      "outputs": [
        {
          "output_type": "execute_result",
          "data": {
            "text/plain": [
              "1"
            ]
          },
          "metadata": {},
          "execution_count": 35
        }
      ]
    },
    {
      "cell_type": "code",
      "source": [
        "%%writefile advanced_lru_cache.py\n",
        "import os\n",
        "import sys\n",
        "import requests\n",
        "#import threading\n",
        "import time\n",
        "import pickle\n",
        "from collections import OrderedDict, defaultdict, deque\n",
        "from urllib.parse import urlparse\n",
        "from io import BytesIO\n",
        "from PIL import Image\n",
        "\n",
        "class CacheItem:\n",
        "    def __init__(self, url, content, size, timestamp, priority=0):\n",
        "        self.url = url\n",
        "        self.content = content\n",
        "        self.size = size\n",
        "        self.last_access = timestamp\n",
        "        self.access_count = 1\n",
        "        self.insert_time = timestamp\n",
        "        self.priority = priority\n",
        "        self.ttl_expiry = timestamp + 300  # default TTL of 5 minutes\n",
        "\n",
        "class ImageCache:\n",
        "    def __init__(self, max_size_bytes, eviction_policy=\"LRU\", max_item_size=10_000_000, bandwidth_limit=5, snapshot_file=\"cache_snapshot.pkl\"):\n",
        "        self.max_size = max_size_bytes\n",
        "        self.max_item_size = max_item_size\n",
        "\n",
        "        self.size = 0\n",
        "#        self.lock = threading.RLock()\n",
        "        self.eviction_policy = eviction_policy\n",
        "\n",
        "        self.bandwidth_limit = bandwidth_limit  # max downloads per minute\n",
        "        self.snapshot_file = snapshot_file\n",
        "\n",
        "        self.cache = OrderedDict()\n",
        "        self.download_timestamps = deque()\n",
        "        self.load_snapshot()\n",
        "\n",
        "    def save_snapshot(self):\n",
        "        with open(self.snapshot_file, 'wb') as f:\n",
        "            pickle.dump(self.cache, f)\n",
        "\n",
        "    def load_snapshot(self):\n",
        "        if os.path.exists(self.snapshot_file):\n",
        "            with open(self.snapshot_file, 'rb') as f:\n",
        "                self.cache = pickle.load(f)\n",
        "                self.size = sum(item.size for item in self.cache.values())\n",
        "\n",
        "    def _evict(self):\n",
        "        while self.size > self.max_size:\n",
        "            if self.eviction_policy == \"LRU\":\n",
        "                url, item = self.cache.popitem(last=False)\n",
        "            if self.eviction_policy == \"LFU\":\n",
        "                url = min(self.cache, key=lambda k: self.cache[k].access_count)\n",
        "                item = self.cache.pop(url)\n",
        "            elif self.eviction_policy == \"FIFO\":\n",
        "                url = next(iter(self.cache))\n",
        "                item = self.cache.pop(url)\n",
        "            elif self.eviction_policy == \"PRIORITY\":\n",
        "                url = min(self.cache, key=lambda k: self.cache[k].priority)\n",
        "                item = self.cache.pop(url)\n",
        "            else:\n",
        "                # default\n",
        "                url, item = self.cache.popitem(last=False)\n",
        "\n",
        "            self.size -= item.size\n",
        "\n",
        "    def _is_bandwidth_limited(self):\n",
        "        now = time.time()\n",
        "        # remove timestamps older than 1 minute\n",
        "        while self.download_timestamps and now - self.download_timestamps[0] > 60:\n",
        "            self.download_timestamps.popleft()\n",
        "        return len(self.download_timestamps) >= self.bandwidth_limit\n",
        "\n",
        "    def _download(self, url):\n",
        "        if self._is_bandwidth_limited():\n",
        "            return f\"Bandwidth limit exceeded. Try again later.\"\n",
        "\n",
        "        try:\n",
        "            response = requests.get(url, stream=True)\n",
        "            response.raise_for_status()\n",
        "            content = response.content\n",
        "            if len(content) > self.max_item_size:\n",
        "                return f\"Image too large to cache: {url}\"\n",
        "            self.download_timestamps.append(time.time())\n",
        "            return content\n",
        "        except requests.exceptions.RequestException as e:\n",
        "            return f\"Error downloading image: {e}\"\n",
        "\n",
        "    def get(self, url):\n",
        "        #with self.lock:\n",
        "          now = time.time()\n",
        "\n",
        "          # Clean expired items\n",
        "          # Eviction is a separate process than this\n",
        "          expired = [key for key, item in self.cache.items() if now > item.ttl_expiry]\n",
        "          for key in expired:\n",
        "              self.size -= self.cache[key].size\n",
        "              del self.cache[key]\n",
        "\n",
        "          if url in self.cache:\n",
        "              item = self.cache[url]\n",
        "              item.last_access = now\n",
        "              item.access_count += 1\n",
        "              # Only move to end if we're using LRU policy\n",
        "              if self.eviction_policy == \"LRU\":\n",
        "                  self.cache.move_to_end(url)\n",
        "              return f\"CACHE HIT: {url}\"\n",
        "\n",
        "          result = self._download(url)\n",
        "          if isinstance(result, str):\n",
        "              return result  # error or bandwidth message\n",
        "\n",
        "          image_size = len(result)\n",
        "          if image_size > self.max_size:\n",
        "              return f\"Image exceeds total cache size: {url}\"\n",
        "\n",
        "          while self.size + image_size > self.max_size:\n",
        "              self._evict()\n",
        "\n",
        "          new_item = CacheItem(url, result, image_size, now)\n",
        "          self.cache[url] = new_item\n",
        "          self.size += image_size\n",
        "          return f\"DOWNLOADED: {url}\"\n",
        "\n",
        "    def prefetch(self, urls):\n",
        "        for url in urls:\n",
        "            #threading.Thread(target=self.get, args=(url,)).start()\n",
        "            self.get(url)\n",
        "\n",
        "if __name__ == \"__main__\":\n",
        "    if len(sys.argv) != 2:\n",
        "        print(\"Usage: python image_cache.py <input_file>\")\n",
        "        sys.exit(1)\n",
        "\n",
        "    input_file = sys.argv[1]\n",
        "\n",
        "    with open(input_file, 'r') as f:\n",
        "        max_cache_size = int(f.readline().strip())\n",
        "        n = int(f.readline().strip())\n",
        "        urls = [f.readline().strip() for _ in range(n)]\n",
        "\n",
        "    cache = ImageCache(max_cache_size, eviction_policy=\"LFU\")\n",
        "    for url in urls:\n",
        "        print(cache.get(url))\n",
        "\n",
        "    # Example of prefetching (next likely images)\n",
        "    cache.prefetch([\"https://placehold.co/100x100.png\"])\n",
        "\n",
        "    # Save snapshot at the end\n",
        "    cache.save_snapshot()"
      ],
      "metadata": {
        "colab": {
          "base_uri": "https://localhost:8080/"
        },
        "id": "0jEtfqXNFjaq",
        "outputId": "3d35e5b0-c973-4ff1-f4f3-15bacba5c058"
      },
      "execution_count": null,
      "outputs": [
        {
          "output_type": "stream",
          "name": "stdout",
          "text": [
            "Overwriting advanced_lru_cache.py\n"
          ]
        }
      ]
    },
    {
      "cell_type": "code",
      "source": [
        "%%writefile input.txt\n",
        "10000\n",
        "3\n",
        "https://placehold.co/600x400.png\n",
        "https://placehold.co/600x400.png\n",
        "https://placehold.co/150x150.png"
      ],
      "metadata": {
        "colab": {
          "base_uri": "https://localhost:8080/"
        },
        "id": "6u43yvLlFr0U",
        "outputId": "2a0621d3-e209-4dba-c90e-76a3d3c00a27"
      },
      "execution_count": null,
      "outputs": [
        {
          "output_type": "stream",
          "name": "stdout",
          "text": [
            "Overwriting input.txt\n"
          ]
        }
      ]
    },
    {
      "cell_type": "code",
      "source": [
        "!python advanced_lru_cache.py input.txt"
      ],
      "metadata": {
        "colab": {
          "base_uri": "https://localhost:8080/"
        },
        "id": "XsMjpIpoFjSq",
        "outputId": "610df8a8-0b2c-43b2-c954-66855b5128f8"
      },
      "execution_count": null,
      "outputs": [
        {
          "output_type": "stream",
          "name": "stdout",
          "text": [
            "Error downloading image: 404 Client Error: Not Found for url: https://placehold.co/600x400.png%20https://placehold.co/600x400.png%20https://placehold.co/150x150.png\n",
            "Error downloading image: Invalid URL '': No scheme supplied. Perhaps you meant https://?\n",
            "Error downloading image: Invalid URL '': No scheme supplied. Perhaps you meant https://?\n",
            "Exception ignored in: <module 'threading' from '/usr/lib/python3.11/threading.py'>\n",
            "Traceback (most recent call last):\n",
            "  File \"/usr/lib/python3.11/threading.py\", line 1590, in _shutdown\n",
            "    lock.acquire()\n",
            "KeyboardInterrupt: \n"
          ]
        }
      ]
    },
    {
      "cell_type": "code",
      "source": [
        "%%writefile word_counter.py\n",
        "\n",
        "import sys\n",
        "from collections import defaultdict\n",
        "\n",
        "def word_count(file_path):\n",
        "    counts = defaultdict(int)\n",
        "    with open(file_path, 'r') as f:\n",
        "        for line in f:\n",
        "            for word in line.strip().split():\n",
        "                counts[word] += 1\n",
        "\n",
        "    for word in sorted(counts):\n",
        "        print(f\"{word} {counts[word]}\")\n",
        "\n",
        "if __name__ == \"__main__\":\n",
        "    if len(sys.argv) < 2:\n",
        "        print(\"Usage: python word_counter.py <input_file>\")\n",
        "        sys.exit(1)\n",
        "\n",
        "    word_count(sys.argv[1])"
      ],
      "metadata": {
        "colab": {
          "base_uri": "https://localhost:8080/"
        },
        "id": "g2ILT-H-_058",
        "outputId": "52f5728e-3fe5-4e8f-8c6e-8c718c3dd7f4"
      },
      "execution_count": null,
      "outputs": [
        {
          "output_type": "stream",
          "name": "stdout",
          "text": [
            "Writing word_counter.py\n"
          ]
        }
      ]
    },
    {
      "cell_type": "code",
      "source": [
        "%%writefile input.txt\n",
        "apple banana apple\n",
        "orange apple banana"
      ],
      "metadata": {
        "colab": {
          "base_uri": "https://localhost:8080/"
        },
        "id": "dqi2tDvPCMct",
        "outputId": "9e8cbb05-5954-429b-c818-3651602f5e61"
      },
      "execution_count": null,
      "outputs": [
        {
          "output_type": "stream",
          "name": "stdout",
          "text": [
            "Writing input.txt\n"
          ]
        }
      ]
    },
    {
      "cell_type": "code",
      "source": [
        "!python word_counter.py input.txt"
      ],
      "metadata": {
        "colab": {
          "base_uri": "https://localhost:8080/"
        },
        "id": "5ryWpHHjCHw_",
        "outputId": "8f5155cd-9d0b-4532-d017-741bf5fe23d2"
      },
      "execution_count": null,
      "outputs": [
        {
          "output_type": "stream",
          "name": "stdout",
          "text": [
            "apple 3\n",
            "banana 2\n",
            "orange 1\n"
          ]
        }
      ]
    },
    {
      "cell_type": "code",
      "source": [
        "# prompt: create a short snippet that writes into csv file and then reads it back\n",
        "\n",
        "import csv\n",
        "\n",
        "def write_and_read_csv(filename, data):\n",
        "    # Write data to CSV file\n",
        "    with open(filename, 'w', newline='') as csvfile:\n",
        "        writer = csv.writer(csvfile)\n",
        "        writer.writerows(data)\n",
        "\n",
        "def csv_reader(csvfile):\n",
        "    # Read data from CSV file\n",
        "    with open(filename, 'r') as csvfile:\n",
        "        reader = csv.reader(csvfile)\n",
        "        read_data = list(reader)\n",
        "\n",
        "    return read_data\n",
        "\n",
        "\n",
        "# Example usage\n",
        "data = [\n",
        "    [\"Name\", \"Age\", \"City\"],\n",
        "    [\"Alice\", \"25\", \"New York\"],\n",
        "    [\"Bob\", \"30\", \"Los Angeles\"],\n",
        "    [\"Charlie\", \"28\", \"Chicago\"]\n",
        "]\n",
        "\n",
        "filename = \"example.csv\"\n",
        "read_data = write_and_read_csv(filename, data)\n",
        "print(csv_reader(filename))"
      ],
      "metadata": {
        "colab": {
          "base_uri": "https://localhost:8080/"
        },
        "id": "HlimylDmCaIm",
        "outputId": "1f84ef0d-0097-4e7c-c1a1-8f95fa68ad1f"
      },
      "execution_count": null,
      "outputs": [
        {
          "output_type": "stream",
          "name": "stdout",
          "text": [
            "[['Name', 'Age', 'City'], ['Alice', '25', 'New York'], ['Bob', '30', 'Los Angeles'], ['Charlie', '28', 'Chicago']]\n"
          ]
        }
      ]
    },
    {
      "cell_type": "code",
      "source": [],
      "metadata": {
        "id": "fWTWRRQ8DB67"
      },
      "execution_count": null,
      "outputs": []
    }
  ]
}