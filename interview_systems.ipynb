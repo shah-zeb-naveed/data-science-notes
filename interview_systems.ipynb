{
  "nbformat": 4,
  "nbformat_minor": 0,
  "metadata": {
    "colab": {
      "provenance": [],
      "authorship_tag": "ABX9TyP4eh9I3LsGcy1XySIZyd4X",
      "include_colab_link": true
    },
    "kernelspec": {
      "name": "python3",
      "display_name": "Python 3"
    },
    "language_info": {
      "name": "python"
    }
  },
  "cells": [
    {
      "cell_type": "markdown",
      "metadata": {
        "id": "view-in-github",
        "colab_type": "text"
      },
      "source": [
        "<a href=\"https://colab.research.google.com/github/shah-zeb-naveed/data-science-notes/blob/main/interview_systems.ipynb\" target=\"_parent\"><img src=\"https://colab.research.google.com/assets/colab-badge.svg\" alt=\"Open In Colab\"/></a>"
      ]
    },
    {
      "cell_type": "markdown",
      "source": [
        "# Cache"
      ],
      "metadata": {
        "id": "mWemi3_cVOes"
      }
    },
    {
      "cell_type": "code",
      "source": [
        "%%writefile lru_cache.py\n",
        "import sys\n",
        "import requests\n",
        "from collections import OrderedDict\n",
        "\n",
        "class ImageCache:\n",
        "    def __init__(self, max_size_bytes):\n",
        "        self.max_size = max_size_bytes\n",
        "        self.cache = OrderedDict()\n",
        "        self.current_size = 0\n",
        "\n",
        "    def get(self, url):\n",
        "        if url in self.cache:\n",
        "            # Move to end to mark as recently used\n",
        "            self.cache.move_to_end(url)\n",
        "            return f\"Cache Hit: {url}\"\n",
        "        else:\n",
        "            try:\n",
        "                response = requests.get(url)\n",
        "                response.raise_for_status()\n",
        "                image_bytes = response.content\n",
        "                image_size = len(image_bytes)\n",
        "\n",
        "                # If image is too big to cache, skip caching\n",
        "                if image_size > self.max_size:\n",
        "                    return f\"Too big. Downloaded (Not Cached): {url}\"\n",
        "\n",
        "                # Evict least recently used items until there's space\n",
        "                while self.current_size + image_size > self.max_size and self.cache:\n",
        "                    _, old_bytes = self.cache.popitem(last=False) # first added\n",
        "                    self.current_size -= len(old_bytes)\n",
        "\n",
        "                self.cache[url] = image_bytes\n",
        "                self.current_size += image_size\n",
        "                return f\"Downloaded and Cached: {url}\"\n",
        "            except requests.exceptions.RequestException as e:\n",
        "                return f\"Error downloading image: {e}\"\n",
        "\n",
        "def main():\n",
        "    if len(sys.argv) < 2:\n",
        "        print(\"Usage: python script.py <input_file>\")\n",
        "        sys.exit(1)\n",
        "\n",
        "    # read fome file\n",
        "    # input_file = sys.argv[1]\n",
        "    # with open(input_file, 'r') as f:\n",
        "    #     lines = f.read().splitlines()\n",
        "\n",
        "    # max_size = int(lines[0])\n",
        "    # num_urls = int(lines[1])\n",
        "    # urls = lines[2:]\n",
        "\n",
        "    # read from command line\n",
        "    max_size = int(sys.argv[1])\n",
        "    num_urls = int(sys.argv[2])\n",
        "    urls = sys.argv[3:]\n",
        "\n",
        "    cache = ImageCache(max_size)\n",
        "\n",
        "    for url in urls:\n",
        "        result = cache.get(url)\n",
        "        print(result)\n",
        "\n",
        "if __name__ == \"__main__\":\n",
        "    main()"
      ],
      "metadata": {
        "colab": {
          "base_uri": "https://localhost:8080/"
        },
        "id": "3aZ72Rp4-10C",
        "outputId": "e08ec68f-4697-4414-b11a-3d634809fada"
      },
      "execution_count": null,
      "outputs": [
        {
          "output_type": "stream",
          "name": "stdout",
          "text": [
            "Overwriting lru_cache.py\n"
          ]
        }
      ]
    },
    {
      "cell_type": "code",
      "source": [
        "!python lru_cache.py 10000 3 https://placehold.co/600x400.png https://placehold.co/600x400.png https://placehold.co/600x400.png"
      ],
      "metadata": {
        "colab": {
          "base_uri": "https://localhost:8080/"
        },
        "id": "fzmeuD_u_zy_",
        "outputId": "4cf182a0-2239-46d6-a4fd-83cd3347db97"
      },
      "execution_count": null,
      "outputs": [
        {
          "output_type": "stream",
          "name": "stdout",
          "text": [
            "Downloaded and Cached: https://placehold.co/600x400.png\n",
            "Cache Hit: https://placehold.co/600x400.png\n",
            "Cache Hit: https://placehold.co/600x400.png\n"
          ]
        }
      ]
    },
    {
      "cell_type": "code",
      "source": [
        "min({2:'A',1:'B'})"
      ],
      "metadata": {
        "colab": {
          "base_uri": "https://localhost:8080/"
        },
        "id": "jBCZEJvAKI7s",
        "outputId": "2b749de5-f8ae-4b51-da1a-aa679e30a3d5"
      },
      "execution_count": null,
      "outputs": [
        {
          "output_type": "execute_result",
          "data": {
            "text/plain": [
              "1"
            ]
          },
          "metadata": {},
          "execution_count": 35
        }
      ]
    },
    {
      "cell_type": "code",
      "source": [
        "%%writefile advanced_lru_cache.py\n",
        "import os\n",
        "import sys\n",
        "import requests\n",
        "#import threading\n",
        "import time\n",
        "import pickle\n",
        "from collections import OrderedDict, defaultdict, deque\n",
        "from urllib.parse import urlparse\n",
        "from io import BytesIO\n",
        "from PIL import Image\n",
        "from heapq import heappush, heappop\n",
        "\n",
        "\n",
        "\n",
        "class CacheItem:\n",
        "    def __init__(self, url, content, size, timestamp, priority=0):\n",
        "        self.url = url\n",
        "        self.content = content\n",
        "        self.size = size\n",
        "        self.last_access = timestamp\n",
        "        self.access_count = 1\n",
        "        self.insert_time = timestamp\n",
        "        self.priority = priority\n",
        "        self.ttl_expiry = timestamp + 300  # default TTL of 5 minutes\n",
        "        self.lfu_heap = []  # minheap for LFU\n",
        "        self.fifo_queue = deque()  # for FIFO\n",
        "\n",
        "\n",
        "class ImageCache:\n",
        "    def __init__(self, max_size_bytes, eviction_policy=\"FIFO\", max_item_size=10_000_000, bandwidth_limit=5, snapshot_file=\"cache_snapshot.pkl\"):\n",
        "        self.max_size = max_size_bytes\n",
        "        self.max_item_size = max_item_size\n",
        "\n",
        "        self.size = 0\n",
        "#        self.lock = threading.RLock()\n",
        "        self.eviction_policy = eviction_policy\n",
        "\n",
        "        self.bandwidth_limit = bandwidth_limit  # max downloads per minute\n",
        "        self.snapshot_file = snapshot_file\n",
        "\n",
        "        self.cache = OrderedDict()\n",
        "        self.download_timestamps = deque()\n",
        "        self.load_snapshot()\n",
        "\n",
        "    def save_snapshot(self):\n",
        "        with open(self.snapshot_file, 'wb') as f:\n",
        "            pickle.dump(self.cache, f)\n",
        "\n",
        "    def load_snapshot(self):\n",
        "        if os.path.exists(self.snapshot_file):\n",
        "            with open(self.snapshot_file, 'rb') as f:\n",
        "                self.cache = pickle.load(f)\n",
        "                self.size = sum(item.size for item in self.cache.values())\n",
        "\n",
        "    def _evict(self):\n",
        "\n",
        "        # optimization\n",
        "        if self.eviction_policy == \"LFU\":\n",
        "            while self.lfu_heap:\n",
        "                # insert_time not used but can be used for breaking ties\n",
        "                access_count_at_push, _, url = heappop(self.lfu_heap)\n",
        "                if url in self.cache:\n",
        "                    item = self.cache[url]\n",
        "                    # not stale if access_counts match\n",
        "                    if item.access_count == access_count_at_push:\n",
        "                        del self.cache[url]\n",
        "                        self.size -= item.size\n",
        "                        break  # valid eviction\n",
        "\n",
        "        # practically, this is the same as ordereddict I think\n",
        "        elif self.eviction_policy == \"FIFO\":\n",
        "            while self.fifo_queue:\n",
        "                url = self.fifo_queue.popleft()\n",
        "                # evicted URLs can stay in queue so check this\n",
        "                if url in self.cache:\n",
        "                    item = self.cache.pop(url)\n",
        "                    self.size -= item.size\n",
        "                    break  # evicted\n",
        "\n",
        "        if self.eviction_policy == \"LRU\":\n",
        "            url, item = self.cache.popitem(last=False)\n",
        "        elif self.eviction_policy == \"FIFO\":\n",
        "            url = next(iter(self.cache))\n",
        "            item = self.cache.pop(url)\n",
        "        elif self.eviction_policy == \"LFU\":\n",
        "            url = min(self.cache, key=lambda k: self.cache[k].access_count)\n",
        "            item = self.cache.pop(url)\n",
        "\n",
        "        elif self.eviction_policy == \"PRIORITY\":\n",
        "            url = min(self.cache, key=lambda k: self.cache[k].priority)\n",
        "            item = self.cache.pop(url)\n",
        "        else:\n",
        "            # default\n",
        "            url, item = self.cache.popitem(last=False)\n",
        "\n",
        "        self.size -= item.size\n",
        "\n",
        "    def _is_bandwidth_limited(self):\n",
        "        now = time.time()\n",
        "        # remove timestamps older than 1 minute\n",
        "        if self.download_timestamps:\n",
        "          diff  = now - self.download_timestamps[0]\n",
        "          #print('diff:', diff)\n",
        "\n",
        "        # bandiwth measured per minute so remove any old before calculating numerator\n",
        "        while self.download_timestamps and now - self.download_timestamps[0] > 60:\n",
        "            self.download_timestamps.popleft()\n",
        "\n",
        "        requests_per_minute = len(self.download_timestamps) + 1 # this current\n",
        "        print('requests_per_minute:', requests_per_minute)\n",
        "        return requests_per_minute > self.bandwidth_limit\n",
        "\n",
        "    def _download(self, url):\n",
        "        if self._is_bandwidth_limited():\n",
        "            raise Exception(f\"Bandwidth limit exceeded. Try again later.\")\n",
        "\n",
        "        try:\n",
        "            response = requests.get(url, stream=True)\n",
        "            response.raise_for_status()\n",
        "            content = response.content\n",
        "            if len(content) > self.max_item_size:\n",
        "                return f\"Image too large to cache: {url}\"\n",
        "            self.download_timestamps.append(time.time())\n",
        "            return content\n",
        "        except requests.exceptions.RequestException as e:\n",
        "            return f\"Error downloading image: {e}\"\n",
        "\n",
        "    def get(self, url):\n",
        "        #with self.lock:\n",
        "          now = time.time()\n",
        "\n",
        "          # Clean expired items\n",
        "          # Eviction is a separate process than this\n",
        "          expired = [key for key, item in self.cache.items() if now > item.ttl_expiry]\n",
        "          for key in expired:\n",
        "              self.size -= self.cache[key].size\n",
        "              del self.cache[key]\n",
        "\n",
        "          if url in self.cache:\n",
        "              item = self.cache[url]\n",
        "              item.last_access = now\n",
        "              item.access_count += 1\n",
        "              # Only move to end if we're using LRU policy\n",
        "              if self.eviction_policy == \"LRU\":\n",
        "                  self.cache.move_to_end(url)\n",
        "\n",
        "              # Also inside get(), after item.access_count += 1, if LFU, push updated count\n",
        "              if self.eviction_policy == \"LFU\":\n",
        "                  heappush(self.lfu_heap, (item.access_count, item.insert_time, url))\n",
        "\n",
        "              return f\"CACHE HIT: {url}\"\n",
        "\n",
        "          result = self._download(url)\n",
        "\n",
        "          image_size = len(result)\n",
        "          if image_size > self.max_size:\n",
        "              return f\"Image exceeds total cache size: {url}\"\n",
        "\n",
        "          while self.size + image_size > self.max_size:\n",
        "              self._evict()\n",
        "\n",
        "          new_item = CacheItem(url, result, image_size, now)\n",
        "          self.cache[url] = new_item\n",
        "          self.size += image_size\n",
        "\n",
        "          # optimizaiton\n",
        "          if self.eviction_policy == \"LFU\":\n",
        "              heappush(self.lfu_heap, (new_item.access_count + 1, new_item.insert_time, url))\n",
        "          elif self.eviction_policy == \"FIFO\":\n",
        "              self.fifo_queue.append(url)\n",
        "\n",
        "          return f\"DOWNLOADED: {url}\"\n",
        "\n",
        "    def prefetch(self, urls):\n",
        "        for url in urls:\n",
        "            #threading.Thread(target=self.get, args=(url,)).start()\n",
        "            self.get(url)\n",
        "\n",
        "if __name__ == \"__main__\":\n",
        "    if len(sys.argv) != 2:\n",
        "        print(\"Usage: python image_cache.py <input_file>\")\n",
        "        sys.exit(1)\n",
        "\n",
        "    input_file = sys.argv[1]\n",
        "\n",
        "    with open(input_file, 'r') as f:\n",
        "        max_cache_size = int(f.readline().strip())\n",
        "        n = int(f.readline().strip())\n",
        "        urls = [f.readline().strip() for _ in range(n)]\n",
        "\n",
        "    cache = ImageCache(max_cache_size, eviction_policy=\"FIFO\")\n",
        "    for url in urls:\n",
        "        print('---')\n",
        "        print(url)\n",
        "        result = cache.get(url)\n",
        "        print(result)\n",
        "        #time.sleep(5)\n",
        "\n",
        "    cache.get(\"https://placehold.co/600x400/EEE/31343C?font=poppins&text=Poppins\")\n",
        "\n",
        "    print('===')\n",
        "    # Example of prefetching (next likely images)\n",
        "    #cache.prefetch([\"https://placehold.co/600x400/EEE/31343C?font=poppins&text=Poppins\"])\n",
        "\n",
        "    # Save snapshot at the end\n",
        "    #cache.save_snapshot()"
      ],
      "metadata": {
        "colab": {
          "base_uri": "https://localhost:8080/"
        },
        "id": "0jEtfqXNFjaq",
        "outputId": "341c3cac-c8c0-485d-f6f2-4087b0bb9d06"
      },
      "execution_count": null,
      "outputs": [
        {
          "output_type": "stream",
          "name": "stdout",
          "text": [
            "Overwriting advanced_lru_cache.py\n"
          ]
        }
      ]
    },
    {
      "cell_type": "code",
      "source": [
        "%%writefile input.txt\n",
        "10000\n",
        "3\n",
        "https://placehold.co/600x400.png\n",
        "https://placehold.co/600x400.png\n",
        "https://placehold.co/150x150.png"
      ],
      "metadata": {
        "colab": {
          "base_uri": "https://localhost:8080/"
        },
        "id": "6u43yvLlFr0U",
        "outputId": "2dbca283-3aa9-4d2f-f85d-bebab1a3f804"
      },
      "execution_count": null,
      "outputs": [
        {
          "output_type": "stream",
          "name": "stdout",
          "text": [
            "Overwriting input.txt\n"
          ]
        }
      ]
    },
    {
      "cell_type": "code",
      "source": [
        "!python advanced_lru_cache.py input.txt"
      ],
      "metadata": {
        "colab": {
          "base_uri": "https://localhost:8080/"
        },
        "id": "XsMjpIpoFjSq",
        "outputId": "952bf898-ac5c-4be0-ef5a-279b412350f3"
      },
      "execution_count": null,
      "outputs": [
        {
          "output_type": "stream",
          "name": "stdout",
          "text": [
            "---\n",
            "https://placehold.co/600x400.png\n",
            "requests_per_minute: 1\n",
            "DOWNLOADED: https://placehold.co/600x400.png\n",
            "---\n",
            "https://placehold.co/600x400.png\n",
            "CACHE HIT: https://placehold.co/600x400.png\n",
            "---\n",
            "https://placehold.co/150x150.png\n",
            "requests_per_minute: 2\n",
            "DOWNLOADED: https://placehold.co/150x150.png\n",
            "requests_per_minute: 3\n",
            "===\n"
          ]
        }
      ]
    },
    {
      "cell_type": "markdown",
      "source": [
        "| Feature                   | Heap-Based LFU                     | `min()` on `OrderedDict` LFU              |\n",
        "| ------------------------- | ---------------------------------- | ----------------------------------------- |\n",
        "| **Eviction Time**         | **O(log n)** (heap push/pop)       | **O(n)** (`min()` over all items)         |\n",
        "| **Access Time (get/put)** | O(1) + heap push = O(log n)        | O(1) + O(1) update + O(n) min at eviction |\n",
        "| **Space Overhead**        | O(n) for `cache`, O(n) for `heap`  | O(n) for `cache` only                     |\n",
        "| **Pros**                  | Fast eviction                      | Simpler implementation                    |\n",
        "| **Cons**                  | More memory and stale heap entries | Slower eviction due to full scan          |\n"
      ],
      "metadata": {
        "id": "zLB51-DPR1F_"
      }
    },
    {
      "cell_type": "markdown",
      "source": [
        "| Feature            | Deque-Based FIFO                    | `OrderedDict` FIFO                 |\n",
        "| ------------------ | ----------------------------------- | ---------------------------------- |\n",
        "| **Eviction Time**  | O(1) with stale-check (amortized)   | **O(1)** via `popitem(last=False)` |\n",
        "| **Access Time**    | O(1) + stale cleanup                | **O(1)**                           |\n",
        "| **Space Overhead** | O(n) for `cache` + O(n) for `deque` | O(n) for single `OrderedDict`      |\n",
        "| **Pros**           | Explicit queue logic, flexible      | Cleanest and most efficient        |\n",
        "| **Cons**           | Potential stale entries             | Less customizable                  |\n"
      ],
      "metadata": {
        "id": "SWF_XDNWR3uE"
      }
    },
    {
      "cell_type": "markdown",
      "source": [
        "| Policy   | Best for Performance | Best for Simplicity |\n",
        "| -------- | -------------------- | ------------------- |\n",
        "| **LFU**  | Heap-based           | `min()` + `dict`    |\n",
        "| **FIFO** | `OrderedDict`        | `OrderedDict`       |\n"
      ],
      "metadata": {
        "id": "qLw2ONHAR5Dd"
      }
    },
    {
      "cell_type": "markdown",
      "source": [
        "| **Strategy**                         | **Pros**                                                                 | **Cons**                                                       | **Use Cases**                                                                    |\n",
        "| ------------------------------------ | ------------------------------------------------------------------------ | -------------------------------------------------------------- | -------------------------------------------------------------------------------- |\n",
        "| **LRU (Least Recently Used)**        | Simple and efficient eviction of least recently accessed items           | Poor for workloads with frequent full scans or cyclic patterns | Browser caches, database buffers, in-memory caches (e.g., `functools.lru_cache`) |\n",
        "| **LFU (Least Frequently Used)**      | Retains hot items accessed repeatedly, good for skewed access patterns   | Requires frequency tracking; may retain stale \"popular\" items  | CDN edge caches, recommendation systems                                          |\n",
        "| **FIFO (First In First Out)**        | Simple and predictable                                                   | Ignores access pattern; may evict useful items                 | Streaming data, write-behind caches                                              |\n",
        "| **Random Replacement**               | Low-overhead eviction                                                    | Non-deterministic; can evict hot items                         | Hardware caches (e.g., CPU), when memory is tight                                |\n",
        "| **TTL (Time to Live)**               | Auto-purges stale items after a time threshold                           | Fixed expiration may evict still-useful items                  | DNS caching, session tokens                                                      |\n",
        "| **ARC (Adaptive Replacement Cache)** | Balances between LRU and LFU adaptively                                  | Complex to implement                                           | Filesystem page caching (ZFS, IBM DB2)                                           |\n",
        "| **MRU (Most Recently Used)**         | Good for patterns where recently used items are less likely to be reused | Counterintuitive for many apps; rarely used alone              | Specific DB workloads (e.g., full table scans), specialized memory pools         |\n",
        "| **2Q Cache**                         | Improves LRU by filtering out short-lived entries                        | Slightly more complex than LRU                                 | Web servers, virtual memory systems                                              |\n",
        "| **Segmented LRU**                    | Prevents cache pollution from one workload segment                       | Needs workload classification                                  | JVM memory pools, multi-tenant environments                                      |\n"
      ],
      "metadata": {
        "id": "XbvYuwlHSnV4"
      }
    },
    {
      "cell_type": "markdown",
      "source": [
        "# In-Memory DB"
      ],
      "metadata": {
        "id": "rrVnKbVXVK9M"
      }
    },
    {
      "cell_type": "code",
      "source": [
        "%%writefile mem_db.py\n",
        "\n",
        "from sortedcontainers import SortedDict\n",
        "from typing import Any, Optional\n",
        "import time\n",
        "\n",
        "class InMemoryDatabase:\n",
        "    def __init__(self):\n",
        "        # Primary key-value store\n",
        "        self.store = dict()\n",
        "\n",
        "        # Secondary index: sorted by key\n",
        "        self.sorted_keys = SortedDict()\n",
        "\n",
        "        # Timestamp index: maps timestamp -> key\n",
        "        self.timestamp_index = SortedDict()\n",
        "\n",
        "    def put(self, key: Any, value: Any, timestamp: Optional[float] = None):\n",
        "        \"\"\"Insert or update a key with value and optional timestamp.\"\"\"\n",
        "        self.store[key] = value\n",
        "        self.sorted_keys[key] = value\n",
        "\n",
        "        ts = timestamp if timestamp is not None else time.time()\n",
        "        self.timestamp_index[ts] = key\n",
        "\n",
        "    def get(self, key: Any) -> Optional[Any]:\n",
        "        \"\"\"Get value for a key.\"\"\"\n",
        "        return self.store.get(key)\n",
        "\n",
        "    def delete(self, key: Any):\n",
        "        \"\"\"Delete key from database.\"\"\"\n",
        "        if key in self.store:\n",
        "            del self.store[key]\n",
        "        if key in self.sorted_keys:\n",
        "            del self.sorted_keys[key]\n",
        "\n",
        "        # Remove from timestamp index\n",
        "        to_remove = [ts for ts, k in self.timestamp_index.items() if k == key]\n",
        "        for ts in to_remove:\n",
        "            del self.timestamp_index[ts]\n",
        "\n",
        "    def get_range(self, start_key: Any, end_key: Any) -> dict:\n",
        "        \"\"\"Get all key-value pairs within the key range [start_key, end_key).\"\"\"\n",
        "        keys = [k for k in self.sorted_keys.irange(start_key, end_key)]\n",
        "        return {k: self.store[k] for k in keys}\n",
        "\n",
        "    def get_by_time_range(self, start_time: float, end_time: float) -> dict:\n",
        "        \"\"\"Return key-value pairs inserted in a given time range.\"\"\"\n",
        "        result = {}\n",
        "        for ts in self.timestamp_index.irange(start_time, end_time):\n",
        "            key = self.timestamp_index[ts]\n",
        "            if key in self.store:\n",
        "                result[key] = self.store[key]\n",
        "        return result\n",
        "\n",
        "    def dump(self) -> dict:\n",
        "        \"\"\"Return all key-value pairs.\"\"\"\n",
        "        return dict(self.store)\n",
        "\n",
        "# Example usage\n",
        "if __name__ == \"__main__\":\n",
        "    db = InMemoryDatabase()\n",
        "    db.put(\"a\", 1)\n",
        "    time.sleep(0.1)\n",
        "    db.put(\"b\", 2)\n",
        "    time.sleep(0.1)\n",
        "    db.put(\"c\", 3)\n",
        "    time.sleep(1)\n",
        "    db.put(\"d\", 5)\n",
        "\n",
        "    print(\"Get b:\", db.get(\"b\"))\n",
        "    print(\"Range a to c:\", db.get_range(\"a\", \"c\"))\n",
        "\n",
        "    print(\"Time range:\", db.get_by_time_range(time.time() - 1, time.time()))\n",
        "    db.delete(\"b\")\n",
        "    print(\"After delete b:\", db.dump())\n"
      ],
      "metadata": {
        "colab": {
          "base_uri": "https://localhost:8080/"
        },
        "id": "hlAhb-GSTSZM",
        "outputId": "dc606f98-22fe-487c-db7c-53cd4911505d"
      },
      "execution_count": null,
      "outputs": [
        {
          "output_type": "stream",
          "name": "stdout",
          "text": [
            "Overwriting mem_db.py\n"
          ]
        }
      ]
    },
    {
      "cell_type": "code",
      "source": [
        "!python mem_db.py"
      ],
      "metadata": {
        "colab": {
          "base_uri": "https://localhost:8080/"
        },
        "id": "zDgM8vv6TSVv",
        "outputId": "064fd58e-f958-4beb-bec2-263440e53c0b"
      },
      "execution_count": null,
      "outputs": [
        {
          "output_type": "stream",
          "name": "stdout",
          "text": [
            "Get b: 2\n",
            "Range a to c: {'a': 1, 'b': 2, 'c': 3}\n",
            "Time range: {'d': 5}\n",
            "After delete b: {'a': 1, 'c': 3, 'd': 5}\n"
          ]
        }
      ]
    },
    {
      "cell_type": "code",
      "source": [
        "# without sortedcontainer, using bisect. bisect insert is still O(n)\n",
        "# unlike sortedcontainers which used a balanced tree data structure\n",
        "\n",
        "import bisect\n",
        "\n",
        "class ManualSortedDict:\n",
        "    def __init__(self):\n",
        "        self.store = {}\n",
        "\n",
        "        # extra list that's always maintained sorted\n",
        "        self.sorted_keys = []\n",
        "\n",
        "    def put(self, key, value):\n",
        "        if key not in self.store:\n",
        "            bisect.insort(self.sorted_keys, key)\n",
        "        self.store[key] = value\n",
        "\n",
        "    def get(self, key):\n",
        "        return self.store.get(key)\n",
        "\n",
        "    def delete(self, key):\n",
        "        if key in self.store:\n",
        "            self.sorted_keys.remove(key)\n",
        "            del self.store[key]\n",
        "\n",
        "    def get_range(self, start, end):\n",
        "        start_idx = bisect.bisect_left(self.sorted_keys, start)\n",
        "        end_idx = bisect.bisect_left(self.sorted_keys, end)\n",
        "        return {\n",
        "            k: self.store[k]\n",
        "            for k in self.sorted_keys[start_idx:end_idx]\n",
        "        }\n"
      ],
      "metadata": {
        "id": "buj-yUjETSTe"
      },
      "execution_count": null,
      "outputs": []
    },
    {
      "cell_type": "code",
      "source": [
        "class ManualSortedDict:\n",
        "    def __init__(self):\n",
        "        self.store = {}\n",
        "        self.sorted_keys = []\n",
        "        self.sorted_timestamps = []  # list of (timestamp, key) tuples\n",
        "\n",
        "    def insert_sorted(self, key):\n",
        "        low, high = 0, len(self.sorted_keys)\n",
        "        while low < high:\n",
        "            mid = (low + high) // 2\n",
        "            if self.sorted_keys[mid] < key:\n",
        "                low = mid + 1 # definitely not the right place\n",
        "            else:\n",
        "                high = mid\n",
        "        self.sorted_keys.insert(low, key)\n",
        "\n",
        "    def insert_sorted_timestamp(self, timestamp, key):\n",
        "        low, high = 0, len(self.sorted_timestamps)\n",
        "        while low < high:\n",
        "            mid = (low + high) // 2\n",
        "            if self.sorted_timestamps[mid][0] < timestamp:\n",
        "                low = mid + 1\n",
        "            else:\n",
        "                high = mid\n",
        "        self.sorted_timestamps.insert(low, (timestamp, key))\n",
        "\n",
        "    def put(self, key, value, timestamp):\n",
        "        if key not in self.store:\n",
        "            self.insert_sorted(key)\n",
        "            self.insert_sorted_timestamp(timestamp, key)\n",
        "        else:\n",
        "            # remove old timestamp entry and insert new one\n",
        "            old_ts, _ = self.store[key]\n",
        "            self.sorted_timestamps.remove((old_ts, key))\n",
        "            self.insert_sorted_timestamp(timestamp, key)\n",
        "        self.store[key] = (timestamp, value)\n",
        "\n",
        "    def get(self, key):\n",
        "        item = self.store.get(key)\n",
        "        return item[1] if item else None\n",
        "\n",
        "    def delete(self, key):\n",
        "        if key in self.store:\n",
        "            self.sorted_keys.remove(key)\n",
        "            ts, _ = self.store[key]\n",
        "            self.sorted_timestamps.remove((ts, key))\n",
        "            del self.store[key]\n",
        "\n",
        "    def get_range(self, start, end):\n",
        "        start_idx = self.binary_search(self.sorted_keys, start)\n",
        "        end_idx = self.binary_search(self.sorted_keys, end)\n",
        "        return {\n",
        "            k: self.store[k][1]\n",
        "            for k in self.sorted_keys[start_idx:end_idx]\n",
        "        }\n",
        "\n",
        "    def get_range_by_time(self, start_ts, end_ts):\n",
        "        start_idx = self.binary_search_ts(start_ts)\n",
        "        end_idx = self.binary_search_ts(end_ts)\n",
        "        keys_in_range = [k for ts, k in self.sorted_timestamps[start_idx:end_idx]]\n",
        "        return {\n",
        "            k: self.store[k][1] for k in keys_in_range\n",
        "        }\n",
        "\n",
        "    def binary_search(self, arr, key):\n",
        "        low, high = 0, len(arr)\n",
        "        while low < high:\n",
        "            mid = (low + high) // 2\n",
        "            if arr[mid] < key:\n",
        "                low = mid + 1\n",
        "            else:\n",
        "                high = mid\n",
        "        return low\n",
        "\n",
        "    def binary_search_ts(self, timestamp):\n",
        "        low, high = 0, len(self.sorted_timestamps)\n",
        "        while low < high:\n",
        "            mid = (low + high) // 2\n",
        "            if self.sorted_timestamps[mid][0] < timestamp:\n",
        "                low = mid + 1\n",
        "            else:\n",
        "                high = mid\n",
        "        return low\n"
      ],
      "metadata": {
        "id": "R8whpm-ATSQ9"
      },
      "execution_count": null,
      "outputs": []
    },
    {
      "cell_type": "markdown",
      "source": [
        "# Text Processing"
      ],
      "metadata": {
        "id": "TVLsOIsbVBya"
      }
    },
    {
      "cell_type": "code",
      "source": [],
      "metadata": {
        "id": "syEXulONVDOT"
      },
      "execution_count": null,
      "outputs": []
    },
    {
      "cell_type": "markdown",
      "source": [
        "For NLP stuff, https://github.com/shah-zeb-naveed/nlp/blob/main/nlp_pre_interview_refresher.ipynb"
      ],
      "metadata": {
        "id": "QK9t6QnFVDmz"
      }
    },
    {
      "cell_type": "code",
      "source": [
        "%%writefile word_counter.py\n",
        "\n",
        "import sys\n",
        "from collections import defaultdict\n",
        "\n",
        "def word_count(file_path):\n",
        "    counts = defaultdict(int)\n",
        "    with open(file_path, 'r') as f:\n",
        "        for line in f:\n",
        "            for word in line.strip().split():\n",
        "                counts[word] += 1\n",
        "\n",
        "    for word in sorted(counts):\n",
        "        print(f\"{word} {counts[word]}\")\n",
        "\n",
        "if __name__ == \"__main__\":\n",
        "    if len(sys.argv) < 2:\n",
        "        print(\"Usage: python word_counter.py <input_file>\")\n",
        "        sys.exit(1)\n",
        "\n",
        "    word_count(sys.argv[1])"
      ],
      "metadata": {
        "colab": {
          "base_uri": "https://localhost:8080/"
        },
        "id": "g2ILT-H-_058",
        "outputId": "52f5728e-3fe5-4e8f-8c6e-8c718c3dd7f4"
      },
      "execution_count": null,
      "outputs": [
        {
          "output_type": "stream",
          "name": "stdout",
          "text": [
            "Writing word_counter.py\n"
          ]
        }
      ]
    },
    {
      "cell_type": "code",
      "source": [
        "%%writefile input.txt\n",
        "apple banana apple\n",
        "orange apple banana"
      ],
      "metadata": {
        "colab": {
          "base_uri": "https://localhost:8080/"
        },
        "id": "dqi2tDvPCMct",
        "outputId": "9e8cbb05-5954-429b-c818-3651602f5e61"
      },
      "execution_count": null,
      "outputs": [
        {
          "output_type": "stream",
          "name": "stdout",
          "text": [
            "Writing input.txt\n"
          ]
        }
      ]
    },
    {
      "cell_type": "code",
      "source": [
        "!python word_counter.py input.txt"
      ],
      "metadata": {
        "colab": {
          "base_uri": "https://localhost:8080/"
        },
        "id": "5ryWpHHjCHw_",
        "outputId": "8f5155cd-9d0b-4532-d017-741bf5fe23d2"
      },
      "execution_count": null,
      "outputs": [
        {
          "output_type": "stream",
          "name": "stdout",
          "text": [
            "apple 3\n",
            "banana 2\n",
            "orange 1\n"
          ]
        }
      ]
    },
    {
      "cell_type": "markdown",
      "source": [
        "# File I/O"
      ],
      "metadata": {
        "id": "MeYafoodU_KS"
      }
    },
    {
      "cell_type": "code",
      "source": [
        "# prompt: create a short snippet that writes into csv file and then reads it back\n",
        "\n",
        "import csv\n",
        "\n",
        "def write_and_read_csv(filename, data):\n",
        "    # Write data to CSV file\n",
        "    with open(filename, 'w', newline='') as csvfile:\n",
        "        writer = csv.writer(csvfile)\n",
        "        writer.writerows(data)\n",
        "\n",
        "def csv_reader(csvfile):\n",
        "    # Read data from CSV file\n",
        "    with open(filename, 'r') as csvfile:\n",
        "        reader = csv.reader(csvfile)\n",
        "        read_data = list(reader)\n",
        "\n",
        "    return read_data\n",
        "\n",
        "\n",
        "# Example usage\n",
        "data = [\n",
        "    [\"Name\", \"Age\", \"City\"],\n",
        "    [\"Alice\", \"25\", \"New York\"],\n",
        "    [\"Bob\", \"30\", \"Los Angeles\"],\n",
        "    [\"Charlie\", \"28\", \"Chicago\"]\n",
        "]\n",
        "\n",
        "filename = \"example.csv\"\n",
        "read_data = write_and_read_csv(filename, data)\n",
        "print(csv_reader(filename))"
      ],
      "metadata": {
        "colab": {
          "base_uri": "https://localhost:8080/"
        },
        "id": "HlimylDmCaIm",
        "outputId": "1f84ef0d-0097-4e7c-c1a1-8f95fa68ad1f"
      },
      "execution_count": null,
      "outputs": [
        {
          "output_type": "stream",
          "name": "stdout",
          "text": [
            "[['Name', 'Age', 'City'], ['Alice', '25', 'New York'], ['Bob', '30', 'Los Angeles'], ['Charlie', '28', 'Chicago']]\n"
          ]
        }
      ]
    },
    {
      "cell_type": "markdown",
      "source": [
        "# Log Processing"
      ],
      "metadata": {
        "id": "MzcW87cKU8JD"
      }
    },
    {
      "cell_type": "code",
      "source": [
        "import re\n",
        "from datetime import datetime\n",
        "from collections import defaultdict\n",
        "\n",
        "class LogParser:\n",
        "    def __init__(self, log_file_path):\n",
        "        self.log_file_path = log_file_path\n",
        "        self.entries = []\n",
        "        self._parse_log()\n",
        "\n",
        "    def _parse_log(self):\n",
        "        log_pattern = re.compile(r'(?P<timestamp>\\d{4}-\\d{2}-\\d{2} \\d{2}:\\d{2}:\\d{2})\\s+(?P<level>[A-Z]+)\\s+(?P<message>.+)')\n",
        "        with open(self.log_file_path, 'r') as f:\n",
        "            for line in f:\n",
        "                match_ = log_pattern.match(line.strip())\n",
        "                if match_:\n",
        "                    ts = datetime.strptime(match_.group('timestamp'), \"%Y-%m-%d %H:%M:%S\")\n",
        "                    self.entries.append({\n",
        "                        'timestamp': ts,\n",
        "                        'level': match_.group('level'),\n",
        "                        'message': match_.group('message')\n",
        "                    })\n",
        "\n",
        "    def filter(self, level=None, keyword=None, start=None, end=None):\n",
        "        result = self.entries\n",
        "        if level:\n",
        "            result = [entry for entry in result if entry['level'] == level]\n",
        "        if keyword:\n",
        "            result = [entry for entry in result if keyword in entry['message']]\n",
        "        if start:\n",
        "            result = [entry for entry in result if entry['timestamp'] >= start]\n",
        "        if end:\n",
        "            result = [entry for entry in result if entry['timestamp'] <= end]\n",
        "        return result\n",
        "\n",
        "    def count_errors_per_hour(self):\n",
        "        hourly_counts = defaultdict(int)\n",
        "        for entry in self.entries:\n",
        "            if entry['level'] == 'ERROR':\n",
        "                hour = entry['timestamp'].replace(minute=0, second=0, microsecond=0)\n",
        "                hourly_counts[hour] += 1\n",
        "        return dict(hourly_counts)\n"
      ],
      "metadata": {
        "id": "fWTWRRQ8DB67"
      },
      "execution_count": null,
      "outputs": []
    },
    {
      "cell_type": "code",
      "source": [
        "%%writefile server.log\n",
        "2025-05-11 08:00:01 INFO Starting server on port 8080\n",
        "2025-05-11 08:01:15 WARN Memory usage is high\n",
        "2025-05-11 08:15:42 ERROR Failed to connect to database\n",
        "2025-05-11 08:45:12 INFO Health check passed\n",
        "2025-05-11 09:03:34 ERROR Timeout while processing request\n",
        "2025-05-11 09:15:01 INFO User login successful\n",
        "2025-05-11 10:00:00 ERROR Disk space low on /dev/sda1\n",
        "2025-05-11 10:05:23 WARN CPU temperature nearing threshold\n",
        "2025-05-11 10:45:11 INFO Request handled successfully\n",
        "2025-05-11 11:00:00 INFO Scheduled maintenance started\n",
        "2025-05-11 11:15:45 ERROR Backup process failed due to permissions"
      ],
      "metadata": {
        "colab": {
          "base_uri": "https://localhost:8080/"
        },
        "id": "ObwH29RnTjhH",
        "outputId": "3b0e9035-0c7d-4b29-a87d-eec89de8fe26"
      },
      "execution_count": null,
      "outputs": [
        {
          "output_type": "stream",
          "name": "stdout",
          "text": [
            "Writing server.log\n"
          ]
        }
      ]
    },
    {
      "cell_type": "code",
      "source": [
        "# Example usage:\n",
        "parser = LogParser('server.log')\n",
        "filtered = parser.filter(level='ERROR', keyword='timeout')\n",
        "errors_by_hour = parser.count_errors_per_hour()\n",
        "errors_by_hour"
      ],
      "metadata": {
        "colab": {
          "base_uri": "https://localhost:8080/",
          "height": 219
        },
        "id": "S7iMM4peTm2p",
        "outputId": "17b42dbb-71d8-4915-afc2-9b102ddcbd1d"
      },
      "execution_count": null,
      "outputs": [
        {
          "output_type": "error",
          "ename": "NameError",
          "evalue": "name 'LogParser' is not defined",
          "traceback": [
            "\u001b[0;31m---------------------------------------------------------------------------\u001b[0m",
            "\u001b[0;31mNameError\u001b[0m                                 Traceback (most recent call last)",
            "\u001b[0;32m<ipython-input-3-3168e52c8a9b>\u001b[0m in \u001b[0;36m<cell line: 0>\u001b[0;34m()\u001b[0m\n\u001b[1;32m      1\u001b[0m \u001b[0;31m# Example usage:\u001b[0m\u001b[0;34m\u001b[0m\u001b[0;34m\u001b[0m\u001b[0m\n\u001b[0;32m----> 2\u001b[0;31m \u001b[0mparser\u001b[0m \u001b[0;34m=\u001b[0m \u001b[0mLogParser\u001b[0m\u001b[0;34m(\u001b[0m\u001b[0;34m'server.log'\u001b[0m\u001b[0;34m)\u001b[0m\u001b[0;34m\u001b[0m\u001b[0;34m\u001b[0m\u001b[0m\n\u001b[0m\u001b[1;32m      3\u001b[0m \u001b[0mfiltered\u001b[0m \u001b[0;34m=\u001b[0m \u001b[0mparser\u001b[0m\u001b[0;34m.\u001b[0m\u001b[0mfilter\u001b[0m\u001b[0;34m(\u001b[0m\u001b[0mlevel\u001b[0m\u001b[0;34m=\u001b[0m\u001b[0;34m'ERROR'\u001b[0m\u001b[0;34m,\u001b[0m \u001b[0mkeyword\u001b[0m\u001b[0;34m=\u001b[0m\u001b[0;34m'timeout'\u001b[0m\u001b[0;34m)\u001b[0m\u001b[0;34m\u001b[0m\u001b[0;34m\u001b[0m\u001b[0m\n\u001b[1;32m      4\u001b[0m \u001b[0merrors_by_hour\u001b[0m \u001b[0;34m=\u001b[0m \u001b[0mparser\u001b[0m\u001b[0;34m.\u001b[0m\u001b[0mcount_errors_per_hour\u001b[0m\u001b[0;34m(\u001b[0m\u001b[0;34m)\u001b[0m\u001b[0;34m\u001b[0m\u001b[0;34m\u001b[0m\u001b[0m\n\u001b[1;32m      5\u001b[0m \u001b[0merrors_by_hour\u001b[0m\u001b[0;34m\u001b[0m\u001b[0;34m\u001b[0m\u001b[0m\n",
            "\u001b[0;31mNameError\u001b[0m: name 'LogParser' is not defined"
          ]
        }
      ]
    },
    {
      "cell_type": "markdown",
      "source": [
        "# Batch Processing"
      ],
      "metadata": {
        "id": "EwbzE5mdU50b"
      }
    },
    {
      "cell_type": "code",
      "source": [
        "import os\n",
        "import pandas as pd\n",
        "\n",
        "try:\n",
        "    from pyspark.sql import SparkSession\n",
        "    from pyspark.sql.types import *\n",
        "    import pyspark.sql.functions as F\n",
        "    SPARK_AVAILABLE = True\n",
        "except ImportError:\n",
        "    SPARK_AVAILABLE = False\n",
        "    print(\"PySpark is not installed. Batch processing with Spark is not available.\")\n"
      ],
      "metadata": {
        "id": "xOeWzvl0YGcu"
      },
      "execution_count": null,
      "outputs": []
    },
    {
      "cell_type": "code",
      "source": [
        "%%writefile sample.csv\n",
        "id,name,age,salary,department\n",
        "1,Alice,30,70000,Engineering\n",
        "2,Bob,25,50000,Sales\n",
        "3,Charlie,35,80000,Engineering\n",
        "4,David,40,90000,HR\n",
        "5,Eve,28,55000,Marketing\n",
        "6,Frank,50,100000,Engineering\n",
        "7,Grace,22,45000,Sales\n",
        "8,Hannah,31,75000,Marketing\n",
        "9,Ian,29,52000,Engineering\n",
        "10,Jane,38,88000,HR"
      ],
      "metadata": {
        "colab": {
          "base_uri": "https://localhost:8080/"
        },
        "id": "2l1501PkabYP",
        "outputId": "0340e1af-f279-40b9-d5ec-13399c1fba36"
      },
      "execution_count": null,
      "outputs": [
        {
          "output_type": "stream",
          "name": "stdout",
          "text": [
            "Writing sample.csv\n"
          ]
        }
      ]
    },
    {
      "cell_type": "code",
      "source": [
        "x = None\n",
        "if x is None:\n",
        "  print('s')"
      ],
      "metadata": {
        "colab": {
          "base_uri": "https://localhost:8080/"
        },
        "id": "wYT-BHVfbDWL",
        "outputId": "28d0ec92-e200-4330-e6f4-b80267157066"
      },
      "execution_count": null,
      "outputs": [
        {
          "output_type": "stream",
          "name": "stdout",
          "text": [
            "s\n"
          ]
        }
      ]
    },
    {
      "cell_type": "code",
      "source": [
        "class BatchFileProcessor:\n",
        "    def __init__(self, filepath, batch_size=1000):\n",
        "        self.filepath = filepath\n",
        "        self.batch_size = batch_size\n",
        "        self.file_type = self._detect_file_type()\n",
        "\n",
        "    def _detect_file_type(self):\n",
        "        ext = os.path.splitext(self.filepath)[-1].lower()\n",
        "        return \"csv\" if ext == \".csv\" else \"text\"\n",
        "\n",
        "    def read_text_in_batches(self, filter_fn=None):\n",
        "        with open(self.filepath, \"r\", encoding=\"utf-8\") as f:\n",
        "            batch = []\n",
        "            for line in f:\n",
        "                if filter_fn is None or filter_fn(line): # smart\n",
        "                    batch.append(line.rstrip())\n",
        "                if len(batch) >= self.batch_size:\n",
        "                    yield batch\n",
        "                    batch = []\n",
        "            if batch:\n",
        "                yield batch\n",
        "\n",
        "    def read_csv_in_batches(self, filter_fn=None, usecols=None):\n",
        "        for chunk in pd.read_csv(self.filepath, chunksize=self.batch_size, usecols=usecols): # , skiprows=1, header=None\n",
        "            if filter_fn:\n",
        "                chunk = chunk[chunk.apply(filter_fn, axis=1)]\n",
        "            yield chunk\n",
        "\n",
        "    def read_with_spark(self, filter_expr=None, columns=None):\n",
        "        if not SPARK_AVAILABLE:\n",
        "            raise ImportError(\"PySpark is not installed.\")\n",
        "\n",
        "        spark = SparkSession.builder.getOrCreate()\n",
        "        df = spark.read.csv(self.filepath, header=True, inferSchema=True)\n",
        "        if columns:\n",
        "            df = df.select(columns)\n",
        "        if filter_expr:\n",
        "            df = df.filter(filter_expr)\n",
        "        return df\n",
        "\n",
        "    def process_batches(self, processor_fn, mode=\"text\", **kwargs):\n",
        "        if mode == \"text\":\n",
        "            for batch in self.read_text_in_batches(**kwargs):\n",
        "                processor_fn(batch)\n",
        "        elif mode == \"csv\":\n",
        "            for batch in self.read_csv_in_batches(**kwargs):\n",
        "                processor_fn(batch)\n",
        "                print('---')\n",
        "        else:\n",
        "            raise ValueError(\"Unsupported mode: choose 'text' or 'csv'\")\n",
        "\n",
        "def filter_fn_error(line):\n",
        "    return \"INFO\" in line\n",
        "\n",
        "\n",
        "# custom processor function\n",
        "def processor_fn(batch):\n",
        "  if isinstance(batch, pd.DataFrame):\n",
        "    print(batch.shape)\n",
        "  else:\n",
        "    print(batch)\n",
        "\n",
        "bfp = BatchFileProcessor('server.log', batch_size=2)\n",
        "bfp.process_batches(processor_fn, mode=\"text\", filter_fn=filter_fn_error)"
      ],
      "metadata": {
        "colab": {
          "base_uri": "https://localhost:8080/"
        },
        "id": "gmY3t7svYEJS",
        "outputId": "b4d0639e-9af4-4f6e-b2bd-474ba0f8c68e"
      },
      "execution_count": null,
      "outputs": [
        {
          "output_type": "stream",
          "name": "stdout",
          "text": [
            "['2025-05-11 08:00:01 INFO Starting server on port 8080', '2025-05-11 08:45:12 INFO Health check passed']\n",
            "['2025-05-11 09:15:01 INFO User login successful', '2025-05-11 10:45:11 INFO Request handled successfully']\n",
            "['2025-05-11 11:00:00 INFO Scheduled maintenance started']\n"
          ]
        }
      ]
    },
    {
      "cell_type": "code",
      "source": [
        "def filter_fn_age(df):\n",
        "    return df['salary'] > 50000\n",
        "\n",
        "bfp = BatchFileProcessor('sample.csv', batch_size=2)\n",
        "bfp.process_batches(processor_fn, mode=\"csv\", filter_fn=filter_fn_age)"
      ],
      "metadata": {
        "colab": {
          "base_uri": "https://localhost:8080/"
        },
        "id": "oxdG67A6bMb4",
        "outputId": "fdf9bfb9-cba0-4acb-d6a3-1a40f88fd018"
      },
      "execution_count": null,
      "outputs": [
        {
          "output_type": "stream",
          "name": "stdout",
          "text": [
            "(1, 5)\n",
            "---\n",
            "(2, 5)\n",
            "---\n",
            "(2, 5)\n",
            "---\n",
            "(1, 5)\n",
            "---\n",
            "(2, 5)\n",
            "---\n"
          ]
        }
      ]
    },
    {
      "cell_type": "code",
      "source": [
        "import numpy as np\n",
        "from sklearn.linear_model import SGDRegressor\n",
        "\n",
        "# Step 1: Create and save large data to disk (once)\n",
        "X = np.random.rand(1_000_000, 20)\n",
        "y = np.random.rand(1_000_000)\n",
        "\n",
        "np.save('X.npy', X)\n",
        "np.save('y.npy', y)\n",
        "\n",
        "# Step 2: Load with memmap for batch processing\n",
        "import numpy as np\n",
        "from sklearn.linear_model import SGDRegressor\n",
        "from sklearn.metrics import mean_squared_error\n",
        "\n",
        "X_path, y_path = 'X.npy', 'y.npy'\n",
        "n_samples, n_features = 1_000_000, 20\n",
        "batch_size = 10000\n",
        "\n",
        "model = SGDRegressor()\n",
        "patience, wait = 3, 0\n",
        "min_val_loss = float('inf')\n",
        "\n",
        "for epoch in range(50):\n",
        "    X_mem = np.memmap(X_path, dtype='float32', mode='r', shape=(n_samples, n_features))\n",
        "    y_mem = np.memmap(y_path, dtype='float32', mode='r', shape=(n_samples,))\n",
        "\n",
        "    for i in range(0, n_samples, batch_size):\n",
        "        X_batch = X_mem[i:i + batch_size]\n",
        "        y_batch = y_mem[i:i + batch_size]\n",
        "        mask = ~np.isnan(X).any(axis=1) & ~np.isnan(y)\n",
        "\n",
        "        # Filtered arrays\n",
        "        X_clean = X[mask]\n",
        "        y_clean = y[mask]\n",
        "\n",
        "        model.partial_fit(X_clean, y_clean)\n",
        "\n",
        "    # Validation (assuming X_val, y_val are in memory)\n",
        "    val_loss = mean_squared_error(y_clean, model.predict(X_clean))\n",
        "    if val_loss < min_val_loss:\n",
        "        min_val_loss = val_loss\n",
        "        wait = 0\n",
        "    else:\n",
        "        wait += 1\n",
        "        if wait >= patience:\n",
        "            print(f\"Early stopping at epoch {epoch}\")\n",
        "            break\n"
      ],
      "metadata": {
        "id": "35m_lmiycAi3",
        "colab": {
          "base_uri": "https://localhost:8080/"
        },
        "outputId": "3d97f232-2d61-44d4-d54d-059bee9d60d8"
      },
      "execution_count": null,
      "outputs": [
        {
          "output_type": "stream",
          "name": "stdout",
          "text": [
            "Early stopping at epoch 5\n"
          ]
        }
      ]
    },
    {
      "cell_type": "markdown",
      "source": [
        "# Parallel Computation"
      ],
      "metadata": {
        "id": "QeAgw9KcritZ"
      }
    },
    {
      "cell_type": "markdown",
      "source": [
        "| Strategy               | Functionality                                              | Analogy                               | Key Components                                      | Use Cases                                     | Parallelism          | GIL Handling                                       |\n",
        "| ---------------------- | ---------------------------------------------------------- | ------------------------------------- | --------------------------------------------------- | --------------------------------------------- | -------------------- | -------------------------------------------------- |\n",
        "| **Threading**          | Runs multiple tasks concurrently, best for I/O-bound tasks | One waiter serving many tables        | `threading.Thread`, `Lock`                          | Web scraping, file I/O, API calls             | No                   | GIL blocks CPU-bound                               |\n",
        "| **Multiprocessing**    | Runs tasks in separate processes, true parallelism         | Multiple chefs in separate kitchens   | `multiprocessing.Process`, `Pool`, `Queue`          | CPU-bound work, ML training, video processing | Yes                  | Each process has own GIL                           |\n",
        "| **Asyncio**            | Cooperative multitasking for I/O-bound tasks               | One chef juggling many timers         | `async def`, `await`, `asyncio.run`, `gather`       | Web servers, DB queries, async APIs           | No (concurrent only) | Single-threaded, GIL not an issue                  |\n",
        "| **Joblib / Dask**      | High-level parallelism for ML/data                         | Factory line with distributed workers | `joblib.Parallel`, `dask.delayed`, `Dask DataFrame` | Scikit-learn training, big data batch jobs    | Yes                  | Under the hood uses multiprocessing or distributed |\n",
        "| **Cython/Numba**       | Compiles Python to fast machine code                       | Assembling parts using power tools    | `@jit`, `cdef`, `prange`                            | Numeric computation, loops on arrays          | Yes (with config)    | Can release GIL                                    |\n",
        "| **Concurrent.futures** | Simplified interface for threads or processes              | Task manager delegating to teams      | `ThreadPoolExecutor`, `ProcessPoolExecutor`         | Async task execution, simple parallelism      | Thread/Process       | Depends on executor type                           |\n"
      ],
      "metadata": {
        "id": "FZEB1gJVrkyp"
      }
    },
    {
      "cell_type": "code",
      "source": [
        "start = time.time()\n",
        "\n",
        "import threading\n",
        "import time\n",
        "\n",
        "def io_task():\n",
        "    time.sleep(2)  # Simulates I/O\n",
        "    print(\"Finished I/O\")\n",
        "\n",
        "# Serial\n",
        "io_task()\n",
        "io_task()\n",
        "\n",
        "print(\"Total time:\", time.time() - start)"
      ],
      "metadata": {
        "colab": {
          "base_uri": "https://localhost:8080/"
        },
        "id": "6s64V4IizSIn",
        "outputId": "28227893-b988-4d95-cebf-0f97646fcffd"
      },
      "execution_count": null,
      "outputs": [
        {
          "output_type": "stream",
          "name": "stdout",
          "text": [
            "Finished I/O\n",
            "Finished I/O\n",
            "Total time: 4.001073598861694\n"
          ]
        }
      ]
    },
    {
      "cell_type": "code",
      "source": [
        "start = time.time()\n",
        "# multiple threads run in the same process.\n",
        "# Due to GIL, only one thread runs\n",
        "# releases GIL for other thread and then recaptures\n",
        "\n",
        "\n",
        "# Parallel with threads\n",
        "t1 = threading.Thread(target=io_task)\n",
        "t2 = threading.Thread(target=io_task)\n",
        "t1.start()\n",
        "t2.start()\n",
        "t1.join()\n",
        "t2.join()\n",
        "\n",
        "print(\"Total time:\", time.time() - start)"
      ],
      "metadata": {
        "colab": {
          "base_uri": "https://localhost:8080/"
        },
        "id": "CXpMsuhvzMof",
        "outputId": "f5ee9209-f7fb-4ae2-e950-0840b92e5aef"
      },
      "execution_count": null,
      "outputs": [
        {
          "output_type": "stream",
          "name": "stdout",
          "text": [
            "Finished I/O\n",
            "Finished I/O\n",
            "Total time: 2.0027577877044678\n"
          ]
        }
      ]
    },
    {
      "cell_type": "code",
      "source": [
        "from multiprocessing import Process\n",
        "import time\n",
        "\n",
        "# separate processes running on different CPU cores\n",
        "# own python interpretor and mempory space\n",
        "\n",
        "\n",
        "def task(name):\n",
        "    print(f\"{name} starting\")\n",
        "    time.sleep(2)\n",
        "    print(f\"{name} done\")\n",
        "\n",
        "p1 = Process(target=task, args=(\"Process-1\",))\n",
        "p2 = Process(target=task, args=(\"Process-2\",))\n",
        "p1.start()\n",
        "p2.start()\n",
        "p1.join()\n",
        "p2.join()\n"
      ],
      "metadata": {
        "colab": {
          "base_uri": "https://localhost:8080/"
        },
        "id": "VV3rz-WVzDOH",
        "outputId": "1fc83da1-f765-4634-90dd-c3579e30c8a7"
      },
      "execution_count": null,
      "outputs": [
        {
          "output_type": "stream",
          "name": "stdout",
          "text": [
            "Process-1 starting\n",
            "Process-2 starting\n",
            "Process-1 done\n",
            "Process-2 done\n"
          ]
        }
      ]
    },
    {
      "cell_type": "code",
      "source": [
        "import asyncio\n",
        "\n",
        "# single thread but cooperative\n",
        "# using await #\n",
        "\n",
        "async def cook(item, time_sec):\n",
        "    print(f\"Started cooking {item}\")\n",
        "    await asyncio.sleep(time_sec)  # Simulates waiting (non-blocking)\n",
        "    print(f\"Finished cooking {item}\")\n",
        "\n",
        "async def main():\n",
        "    # Launch all tasks concurrently\n",
        "    await asyncio.gather(\n",
        "        cook(\"Pasta\", 3),\n",
        "        cook(\"Soup\", 2),\n",
        "        cook(\"Steak\", 4),\n",
        "    )\n",
        "\n",
        "#asyncio.run(main())\n",
        "await main()\n"
      ],
      "metadata": {
        "colab": {
          "base_uri": "https://localhost:8080/"
        },
        "id": "8lodhfPQzkIu",
        "outputId": "f609c2e5-14a1-470d-8f97-9b439df43d62"
      },
      "execution_count": null,
      "outputs": [
        {
          "output_type": "stream",
          "name": "stdout",
          "text": [
            "Started cooking Pasta\n",
            "Started cooking Soup\n",
            "Started cooking Steak\n",
            "Finished cooking Soup\n",
            "Finished cooking Pasta\n",
            "Finished cooking Steak\n"
          ]
        }
      ]
    },
    {
      "cell_type": "code",
      "source": [],
      "metadata": {
        "id": "QjJaFC7E23W7"
      },
      "execution_count": null,
      "outputs": []
    },
    {
      "cell_type": "code",
      "source": [
        "import os\n",
        "import pandas as pd\n",
        "import threading\n",
        "import multiprocessing\n",
        "from queue import Queue\n",
        "\n",
        "try:\n",
        "    from pyspark.sql import SparkSession\n",
        "    SPARK_AVAILABLE = True\n",
        "except ImportError:\n",
        "    SPARK_AVAILABLE = False\n",
        "\n",
        "\n",
        "def character_counter(batch):\n",
        "    count = 0\n",
        "    for line in batch:\n",
        "        for char in line:\n",
        "            count += 1\n",
        "    print(f\"Processed batch with {count} characters\")\n",
        "\n",
        "\n",
        "class BatchFileProcessor:\n",
        "    def __init__(self, filepath, batch_size=1000):\n",
        "        self.filepath = filepath\n",
        "        self.batch_size = batch_size\n",
        "\n",
        "    def read_text_in_batches(self, output_queue, filter_fn=None):\n",
        "        with open(self.filepath, \"r\", encoding=\"utf-8\") as f:\n",
        "            batch = []\n",
        "            for line in f:\n",
        "                if filter_fn is None or filter_fn(line):\n",
        "                    batch.append(line.rstrip())\n",
        "                if len(batch) == self.batch_size:\n",
        "                    output_queue.put(batch)\n",
        "                    batch = []\n",
        "            if batch:\n",
        "                output_queue.put(batch)\n",
        "        output_queue.put(None)\n",
        "\n",
        "    def read_csv_in_batches(self, output_queue, filter_fn=None, usecols=None):\n",
        "        for chunk in pd.read_csv(self.filepath, chunksize=self.batch_size, usecols=usecols):\n",
        "            if filter_fn:\n",
        "                chunk = chunk[chunk.apply(filter_fn, axis=1)]\n",
        "            lines = chunk.astype(str).values.tolist()\n",
        "            flat_lines = [\" \".join(row) for row in lines]\n",
        "            output_queue.put(flat_lines)\n",
        "        output_queue.put(None)\n",
        "\n",
        "    def read_with_spark(self, filter_expr=None, columns=None):\n",
        "        if not SPARK_AVAILABLE:\n",
        "            raise ImportError(\"PySpark is not installed.\")\n",
        "\n",
        "        spark = SparkSession.builder.getOrCreate()\n",
        "        df = spark.read.csv(self.filepath, header=True, inferSchema=True)\n",
        "        if columns:\n",
        "            df = df.select(columns)\n",
        "        if filter_expr:\n",
        "            df = df.filter(filter_expr)\n",
        "        return df\n",
        "\n",
        "    def process_batches_with_multiprocessing(self, mode=\"text\", **kwargs):\n",
        "        output_queue = Queue()\n",
        "\n",
        "        # define threads\n",
        "        if mode == \"text\":\n",
        "            thread = threading.Thread(target=self.read_text_in_batches, args=(output_queue,), kwargs=kwargs)\n",
        "\n",
        "        elif mode == 'csv':\n",
        "            thread = threading.Thread(target=self.read_csv_in_batches, args=(output_queue,), kwargs=kwargs)\n",
        "        else:\n",
        "            raise ValueError(\"Unsupported mode: choose 'text' or 'csv'\")\n",
        "\n",
        "        thread.start()\n",
        "\n",
        "        pool = multiprocessing.Pool()\n",
        "        active = 0\n",
        "        while True:\n",
        "            batch = output_queue.get()\n",
        "            if batch is None:\n",
        "                break\n",
        "            pool.apply_async(character_counter, args=(batch,))\n",
        "            active += 1\n",
        "\n",
        "        thread.join()\n",
        "        pool.close()\n",
        "        pool.join()\n",
        "\n",
        "\n",
        "start_time = time.time()\n",
        "\n",
        "bfp = BatchFileProcessor('server.log', batch_size=2)\n",
        "bfp.process_batches_with_multiprocessing(mode=\"text\")\n",
        "\n",
        "print(\"Total time:\", time.time() - start)"
      ],
      "metadata": {
        "colab": {
          "base_uri": "https://localhost:8080/"
        },
        "id": "sfXuN5BZ2sle",
        "outputId": "bcaa3952-00a3-442f-d4fc-d22a8d0e5f64"
      },
      "execution_count": null,
      "outputs": [
        {
          "output_type": "stream",
          "name": "stdout",
          "text": [
            "Processed batch with 98 charactersProcessed batch with 99 characters\n",
            "Processed batch with 104 characters\n",
            "\n",
            "Processed batch with 107 charactersProcessed batch with 111 characters\n",
            "\n",
            "Processed batch with 66 characters\n",
            "Total time: 3196.8767352104187\n"
          ]
        }
      ]
    },
    {
      "cell_type": "code",
      "source": [],
      "metadata": {
        "id": "o9wiV1St4meF"
      },
      "execution_count": null,
      "outputs": []
    },
    {
      "cell_type": "markdown",
      "source": [
        "# Priority Queue"
      ],
      "metadata": {
        "id": "I8teB4jyCkCp"
      }
    },
    {
      "cell_type": "code",
      "source": [
        "import heapq\n",
        "import itertools\n",
        "\n",
        "class PrioritizedItem:\n",
        "    def __init__(self, priority, item):\n",
        "        self.priority = priority\n",
        "        self.item = item\n",
        "\n",
        "    def __lt__(self, other):\n",
        "        return self.priority < other.priority\n",
        "\n",
        "class CustomPriorityQueue:\n",
        "    def __init__(self):\n",
        "        self.heap = []\n",
        "        self.__entry_finder = {}  # mapping of items to entries\n",
        "        self.REMOVED = \"<removed-task>\"\n",
        "        self.counter = itertools.count()  # unique sequence count # just a counter\n",
        "\n",
        "    def add(self, item, priority=0):\n",
        "        # already exists\n",
        "        if item in self.__entry_finder:\n",
        "            self.remove(item)\n",
        "\n",
        "\n",
        "        count = next(self.counter) # just a counter\n",
        "        entry = [priority, count, item]\n",
        "        self.__entry_finder[item] = entry\n",
        "        heapq.heappush(self.heap, entry)\n",
        "\n",
        "    def remove(self, item):\n",
        "        # remove from mapper\n",
        "        entry = self.__entry_finder.pop(item)\n",
        "\n",
        "        # label it, lazy delete\n",
        "        entry[-1] = self.REMOVED\n",
        "\n",
        "    def pop(self):\n",
        "        while self.heap:\n",
        "            priority, count, item = heapq.heappop(self.heap)\n",
        "            if item is not self.REMOVED: # check validity\n",
        "                del self.__entry_finder[item]\n",
        "                return item\n",
        "        raise KeyError(\"pop from an empty priority queue\")\n",
        "\n",
        "    def peek(self):\n",
        "        while self.heap:\n",
        "            priority, count, item = self.heap[0]\n",
        "            if item is self.REMOVED: # check validity: # item marked as removed\n",
        "                heapq.heappop(self.heap)\n",
        "            else:\n",
        "                return item\n",
        "        raise KeyError(\"peek from an empty priority queue\")\n",
        "\n",
        "    def __contains__(self, item):\n",
        "        return item in self.__entry_finder\n",
        "\n",
        "    def __len__(self):\n",
        "        return len(self.__entry_finder)\n",
        "\n",
        "q = CustomPriorityQueue()\n",
        "q.add('a', 1)\n",
        "q.add('b', 2)\n",
        "q.add('c', 3)\n",
        "q.add('d', 4)\n",
        "\n",
        "q.peek()\n",
        "q.remove('b')\n",
        "q.pop()\n",
        "q.peek()\n",
        "q.remove('c')\n",
        "\n",
        "print(q._CustomPriorityQueue__entry_finder)\n",
        "print(q.heap)\n",
        "q.peek()"
      ],
      "metadata": {
        "id": "ik_SWdW_ClJi",
        "colab": {
          "base_uri": "https://localhost:8080/",
          "height": 72
        },
        "outputId": "c9fc8ab0-4bf6-4b02-c220-650e873322cf"
      },
      "execution_count": null,
      "outputs": [
        {
          "output_type": "stream",
          "name": "stdout",
          "text": [
            "{'d': [4, 3, 'd']}\n",
            "[[3, 2, '<removed-task>'], [4, 3, 'd']]\n"
          ]
        },
        {
          "output_type": "execute_result",
          "data": {
            "text/plain": [
              "'d'"
            ],
            "application/vnd.google.colaboratory.intrinsic+json": {
              "type": "string"
            }
          },
          "metadata": {},
          "execution_count": 15
        }
      ]
    },
    {
      "cell_type": "code",
      "source": [
        "def test_task_scheduler():\n",
        "    tasks = [\n",
        "        (\"Email Sync\", 3),\n",
        "        (\"Video Encoding\", 1),\n",
        "        (\"System Backup\", 2),\n",
        "        (\"Antivirus Scan\", 4),\n",
        "    ]\n",
        "\n",
        "\n",
        "    pq = CustomPriorityQueue()\n",
        "    for task, priority in tasks:\n",
        "        pq.add(task, priority)\n",
        "\n",
        "    print(\"Processing tasks by priority:\")\n",
        "    while len(pq):\n",
        "        print(pq.pop())\n",
        "\n",
        "test_task_scheduler()"
      ],
      "metadata": {
        "colab": {
          "base_uri": "https://localhost:8080/"
        },
        "id": "AmQDovkIDMpa",
        "outputId": "9046a901-f10e-4d1a-e3b9-0d4dc0c1400b"
      },
      "execution_count": null,
      "outputs": [
        {
          "output_type": "stream",
          "name": "stdout",
          "text": [
            "Processing tasks by priority:\n",
            "Video Encoding\n",
            "System Backup\n",
            "Email Sync\n",
            "Antivirus Scan\n"
          ]
        }
      ]
    },
    {
      "cell_type": "code",
      "source": [
        "from collections import defaultdict\n",
        "import matplotlib.pyplot as plt\n",
        "import networkx as nx\n",
        "\n",
        "def visualize_graph(graph_dict):\n",
        "  graph = nx.Graph()\n",
        "  for node, edges in graph_dict.items():\n",
        "    for neighbor, weight in edges:\n",
        "      graph.add_edge(node, neighbor, weight=weight)\n",
        "\n",
        "  pos = nx.spring_layout(graph)  # positions for all nodes\n",
        "  nx.draw(graph, pos, with_labels=True, node_size=700, node_color=\"skyblue\", font_size=10, font_weight='bold', width=2)\n",
        "  edge_labels = nx.get_edge_attributes(graph,'weight')\n",
        "  nx.draw_networkx_edge_labels(graph, pos, edge_labels=edge_labels)\n",
        "  plt.show()\n",
        "\n",
        "\n",
        "# add start\n",
        "def dijkstra(graph, start):\n",
        "    pq = CustomPriorityQueue()\n",
        "    distances = {node: float('inf') for node in graph}\n",
        "    distances[start] = 0\n",
        "    pq.add(start, 0)\n",
        "\n",
        "    while len(pq):\n",
        "        current = pq.pop()\n",
        "\n",
        "        for neighbor, weight in graph[current]:\n",
        "            new_dist = distances[current] + weight\n",
        "            if new_dist < distances[neighbor]:\n",
        "                distances[neighbor] = new_dist\n",
        "                pq.add(neighbor, new_dist)\n",
        "\n",
        "    return distances\n",
        "\n",
        "def test_dijkstra():\n",
        "    graph = defaultdict(list)\n",
        "    graph['A'].extend([('B', 1), ('C', 4)])\n",
        "    graph['B'].extend([('C', 2), ('D', 5)])\n",
        "    graph['C'].append(('D', 1))\n",
        "    graph['D'] = []\n",
        "\n",
        "    visualize_graph(graph)\n",
        "\n",
        "    distances = dijkstra(graph, 'A')\n",
        "    for node in sorted(distances):\n",
        "        print(f\"Distance from A to {node}: {distances[node]}\")\n",
        "\n",
        "test_dijkstra()\n"
      ],
      "metadata": {
        "colab": {
          "base_uri": "https://localhost:8080/",
          "height": 589
        },
        "id": "wW0yaxKtDNJq",
        "outputId": "1e2eb402-38c3-46c0-dcb0-0ecb08a8f96b"
      },
      "execution_count": null,
      "outputs": [
        {
          "output_type": "display_data",
          "data": {
            "text/plain": [
              "<Figure size 640x480 with 1 Axes>"
            ],
            "image/png": "[encoded data removed]"
          },
          "metadata": {}
        },
        {
          "output_type": "stream",
          "name": "stdout",
          "text": [
            "Distance from A to A: 0\n",
            "Distance from A to B: 1\n",
            "Distance from A to C: 3\n",
            "Distance from A to D: 4\n"
          ]
        }
      ]
    },
    {
      "cell_type": "markdown",
      "source": [
        "# Text Data Structures"
      ],
      "metadata": {
        "id": "YHDeDOYZWIZI"
      }
    },
    {
      "cell_type": "markdown",
      "source": [
        "1. https://leetcode.com/problems/design-add-and-search-words-data-structure/\n",
        "2. https://leetcode.com/problems/implement-trie-prefix-tree/"
      ],
      "metadata": {
        "id": "fv2aSc0XW7fH"
      }
    },
    {
      "cell_type": "code",
      "source": [
        "class TrieNode:\n",
        "    def __init__(self):\n",
        "        self.children = {}\n",
        "        self.is_word = False\n",
        "\n",
        "class Trie:\n",
        "    def __init__(self):\n",
        "        self.root = TrieNode()\n",
        "\n",
        "    def insert(self, word: str):\n",
        "        node = self.root\n",
        "        for ch in word:\n",
        "            node = node.children.setdefault(ch, TrieNode())\n",
        "        node.is_word = True\n",
        "\n",
        "    def search(self, word: str) -> bool:\n",
        "        node = self._find_node(word)\n",
        "        return node.is_word if node else False\n",
        "\n",
        "    def starts_with(self, prefix: str) -> bool:\n",
        "        return bool(self._find_node(prefix))\n",
        "\n",
        "    def _find_node(self, prefix: str):\n",
        "        node = self.root\n",
        "        for ch in prefix:\n",
        "            node = node.children.get(ch)\n",
        "            if not node:\n",
        "                return None\n",
        "        return node\n",
        "\n",
        "# Test\n",
        "trie = Trie()\n",
        "for word in [\"cat\", \"car\", \"care\", \"dog\"]:\n",
        "    trie.insert(word)\n",
        "print(trie.search(\"car\"))         # True\n",
        "print(trie.starts_with(\"ca\"))     # True\n",
        "print(trie.search(\"cart\"))        # False\n"
      ],
      "metadata": {
        "colab": {
          "base_uri": "https://localhost:8080/"
        },
        "id": "IgYEz758WJi5",
        "outputId": "40ecd453-7f04-437d-9a94-fb6fe114103c"
      },
      "execution_count": null,
      "outputs": [
        {
          "output_type": "stream",
          "name": "stdout",
          "text": [
            "True\n",
            "True\n",
            "False\n"
          ]
        }
      ]
    },
    {
      "cell_type": "code",
      "source": [
        "class SuffixTrie:\n",
        "    def __init__(self, text: str):\n",
        "        self.root = {}\n",
        "        self.build(text)\n",
        "\n",
        "    def build(self, text: str):\n",
        "        for i in range(len(text)):\n",
        "\n",
        "            # akways start from the root\n",
        "            node = self.root\n",
        "            suffix = text[i:] # suffix starting at i\n",
        "\n",
        "            for ch in suffix:\n",
        "                node = node.setdefault(ch, {})\n",
        "\n",
        "            # now, node is the last character of this suffix starting at i\n",
        "            # mark it terminal, i marks start of this suffix\n",
        "            node[\"$\"] = i\n",
        "\n",
        "    def has_substring(self, pattern: str) -> bool:\n",
        "        node = self.root\n",
        "        for ch in pattern:\n",
        "            if ch not in node:\n",
        "                return False\n",
        "            node = node[ch]\n",
        "        return True\n",
        "\n",
        "# Test\n",
        "s_trie = SuffixTrie(\"banana\")\n",
        "print(s_trie.has_substring(\"ana\"))  # True\n",
        "print(s_trie.has_substring(\"nana\")) # True\n",
        "print(s_trie.has_substring(\"apple\"))# False\n"
      ],
      "metadata": {
        "id": "O1kmZ-FnXt8J"
      },
      "execution_count": null,
      "outputs": []
    },
    {
      "cell_type": "code",
      "source": [
        "from collections import defaultdict\n",
        "\n",
        "class InvertedIndex:\n",
        "    def __init__(self):\n",
        "        self.index = defaultdict(set)\n",
        "\n",
        "    def add_document(self, doc_id: int, text: str):\n",
        "        for word in text.lower().split():\n",
        "            self.index[word].add(doc_id)\n",
        "\n",
        "    def search(self, word: str):\n",
        "        return self.index.get(word.lower(), set())\n",
        "\n",
        "# Test\n",
        "inv_index = InvertedIndex()\n",
        "docs = {\n",
        "    1: \"cat dog elephant\",\n",
        "    2: \"dog lion tiger\",\n",
        "    3: \"elephant giraffe cat\"\n",
        "}\n",
        "for doc_id, content in docs.items():\n",
        "    inv_index.add_document(doc_id, content)\n",
        "\n",
        "print(inv_index.search(\"cat\"))     # {1, 3}\n",
        "print(inv_index.search(\"dog\"))     # {1, 2}\n",
        "print(inv_index.search(\"lion\"))    # {2}\n"
      ],
      "metadata": {
        "colab": {
          "base_uri": "https://localhost:8080/"
        },
        "id": "Z4iw5HHbX4Kw",
        "outputId": "22a671ff-1190-4088-8167-29f36c5de5b1"
      },
      "execution_count": null,
      "outputs": [
        {
          "output_type": "stream",
          "name": "stdout",
          "text": [
            "{1, 3}\n",
            "{1, 2}\n",
            "{2}\n"
          ]
        }
      ]
    },
    {
      "cell_type": "code",
      "source": [
        "from collections import defaultdict\n",
        "import math\n",
        "\n",
        "class SearchEngine:\n",
        "    def __init__(self):\n",
        "        self.doc_freq = defaultdict(set)\n",
        "        self.term_freq = defaultdict(lambda: defaultdict(int))\n",
        "        self.num_docs = 0\n",
        "\n",
        "    def add_document(self, doc_id, text):\n",
        "        self.num_docs += 1\n",
        "        words = text.lower().split()\n",
        "        seen = set()\n",
        "        for word in words:\n",
        "            self.term_freq[doc_id][word] += 1\n",
        "            self.doc_freq[word].add(doc_id)\n",
        "\n",
        "    def tf_idf(self, word, doc_id):\n",
        "        tf = self.term_freq[doc_id].get(word, 0)\n",
        "        df = len(self.doc_freq[word])\n",
        "        idf = math.log((1 + self.num_docs) / (1 + df)) + 1\n",
        "        return tf * idf\n",
        "\n",
        "    def boolean_search(self, query_words):\n",
        "        result = None\n",
        "        for word in query_words:\n",
        "            docs = self.doc_freq.get(word.lower(), set())\n",
        "            result = docs if result is None else result & docs\n",
        "        return result\n",
        "\n",
        "# Test\n",
        "se = SearchEngine()\n",
        "se.add_document(1, \"cat dog elephant\")\n",
        "se.add_document(2, \"dog tiger lion\")\n",
        "se.add_document(3, \"elephant giraffe cat\")\n",
        "\n",
        "print(se.boolean_search([\"cat\", \"elephant\"])) # {1, 3}\n",
        "print(se.tf_idf(\"cat\", 1))  # TF-IDF score for \"cat\" in doc 1"
      ],
      "metadata": {
        "colab": {
          "base_uri": "https://localhost:8080/"
        },
        "id": "NaZl3XvbEVWQ",
        "outputId": "081e8283-4854-430a-f0d0-6624c998b825"
      },
      "execution_count": 4,
      "outputs": [
        {
          "output_type": "stream",
          "name": "stdout",
          "text": [
            "{1, 3}\n",
            "1.2876820724517808\n"
          ]
        }
      ]
    },
    {
      "cell_type": "markdown",
      "source": [
        "| Structure          | Use Case                                 | Strength                     | Limitation                  |\n",
        "| ------------------ | ---------------------------------------- | ---------------------------- | --------------------------- |\n",
        "| **Trie**           | Autocomplete, prefix filtering           | Fast prefix search (O(L))    | Costly on memory            |\n",
        "| **Suffix Trie**    | Substring search, DNA/text pattern match | Fast substring search        | Space-heavy, not compressed |\n",
        "| **Inverted Index** | Full-text search in documents            | Scalable & fast for keywords | Not ideal for substring     |\n"
      ],
      "metadata": {
        "id": "p8bprYNoYWV_"
      }
    },
    {
      "cell_type": "code",
      "source": [
        "class RadixNode:\n",
        "    def __init__(self):\n",
        "        self.children = {}\n",
        "        self.is_word = False\n",
        "\n",
        "class RadixTrie:\n",
        "    def __init__(self):\n",
        "        self.root = RadixNode()\n",
        "\n",
        "    def insert(self, word):\n",
        "        node = self.root\n",
        "        while word:\n",
        "            for key in node.children:\n",
        "                i = 0\n",
        "                while i < len(key) and i < len(word) and key[i] == word[i]:\n",
        "                    i += 1\n",
        "                if i > 0:\n",
        "                    if i == len(key):\n",
        "                        word = word[i:]\n",
        "                        node = node.children[key]\n",
        "                        break\n",
        "                    else:\n",
        "                        existing_child = node.children.pop(key)\n",
        "                        node.children[key[:i]] = RadixNode()\n",
        "                        node.children[key[:i]].children[key[i:]] = existing_child\n",
        "                        node = node.children[key[:i]]\n",
        "                        word = word[i:]\n",
        "                        break\n",
        "            else:\n",
        "                node.children[word] = RadixNode()\n",
        "                node.children[word].is_word = True\n",
        "                return\n",
        "\n",
        "    def search(self, word):\n",
        "        node = self.root\n",
        "        while word:\n",
        "            for key in node.children:\n",
        "                if word.startswith(key):\n",
        "                    word = word[len(key):]\n",
        "                    node = node.children[key]\n",
        "                    break\n",
        "            else:\n",
        "                return False\n",
        "        return node.is_word\n",
        "\n",
        "# Test\n",
        "rt = RadixTrie()\n",
        "rt.insert(\"cat\")\n",
        "rt.insert(\"carpet\")\n",
        "print(rt.search(\"cat\"))      # True\n",
        "print(rt.search(\"car\"))      # False\n"
      ],
      "metadata": {
        "colab": {
          "base_uri": "https://localhost:8080/"
        },
        "id": "z3tNRrwUYJ_b",
        "outputId": "3b3267d8-13ac-41b1-c737-7f00984266a2"
      },
      "execution_count": null,
      "outputs": [
        {
          "output_type": "stream",
          "name": "stdout",
          "text": [
            "True\n",
            "False\n"
          ]
        }
      ]
    },
    {
      "cell_type": "code",
      "source": [
        "class SuffixTreeNode:\n",
        "    def __init__(self):\n",
        "        self.children = {}\n",
        "\n",
        "class SuffixTree:\n",
        "    def __init__(self, text):\n",
        "        self.root = SuffixTreeNode()\n",
        "        self.text = text\n",
        "        self._build()\n",
        "\n",
        "    def _build(self):\n",
        "        for i in range(len(self.text)):\n",
        "            current = self.root\n",
        "\n",
        "            # suffix start at i\n",
        "            suffix = self.text[i:]\n",
        "\n",
        "            while suffix:\n",
        "                for edge in current.children:\n",
        "                    if suffix.startswith(edge[0]):\n",
        "                        suffix = suffix[len(edge[0]):]\n",
        "                        current = edge[1]\n",
        "                        break\n",
        "                else: # no suffix that starts with edge\n",
        "                    new_node = SuffixTreeNode()\n",
        "                    current.children[(suffix, new_node)] = new_node\n",
        "                    break\n",
        "\n",
        "    def has_substring(self, pattern):\n",
        "        node = self.root\n",
        "        i = 0\n",
        "        while i < len(pattern):\n",
        "            for (edge, child) in node.children:\n",
        "                if pattern[i:].startswith(edge):\n",
        "                    i += len(edge)\n",
        "                    node = child\n",
        "                    break\n",
        "            else:\n",
        "                return False\n",
        "        return True\n",
        "\n",
        "# Test\n",
        "st = SuffixTree(\"banana$\")\n",
        "print(st.has_substring(\"ana\"))  # True\n",
        "print(st.has_substring(\"nana\")) # True\n",
        "print(st.has_substring(\"apple\"))# False\n"
      ],
      "metadata": {
        "colab": {
          "base_uri": "https://localhost:8080/"
        },
        "id": "OncfLU8xZTQD",
        "outputId": "6eef447d-40c7-41c6-d7b2-3edaab9b8bad"
      },
      "execution_count": null,
      "outputs": [
        {
          "output_type": "stream",
          "name": "stdout",
          "text": [
            "False\n",
            "False\n",
            "False\n"
          ]
        }
      ]
    }
  ]
}